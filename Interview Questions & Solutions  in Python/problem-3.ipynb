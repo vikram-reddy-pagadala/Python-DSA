{
 "cells": [
  {
   "cell_type": "markdown",
   "metadata": {},
   "source": [
    "---\n",
    "# **Problem**\n",
    "\n",
    "Write a function that returns the maximum value and minimum values from a tuple\n",
    "\n",
    "Example:\n",
    "\n",
    "input: (5, 2, 8, 1, 9)\n",
    "\n",
    "output: (1, 9)\n",
    "\n",
    "---\n",
    "**Solution:**\n",
    "``` python\n",
    "def find_max_min_value(tuple):\n",
    "    min = tuple(0)\n",
    "    max = tuple(0)\n",
    "    for num in tuple:\n",
    "        if num > max:\n",
    "            max = num\n",
    "        if num < min:\n",
    "            min = num\n",
    "    return min, max\n",
    "```\n",
    "---"
   ]
  }
 ],
 "metadata": {
  "language_info": {
   "name": "python"
  }
 },
 "nbformat": 4,
 "nbformat_minor": 2
}
