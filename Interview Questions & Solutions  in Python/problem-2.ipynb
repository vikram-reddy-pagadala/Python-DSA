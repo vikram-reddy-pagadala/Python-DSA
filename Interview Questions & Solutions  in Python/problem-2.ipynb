{
 "cells": [
  {
   "cell_type": "markdown",
   "metadata": {},
   "source": [
    "---\n",
    "# **Problem**\n",
    "Write a python code tpp find the Non-Repeating characters in a string \n",
    "\n",
    "text = 'swiss'\n",
    "\n",
    "output = 'w', 'i'"
   ]
  },
  {
   "cell_type": "markdown",
   "metadata": {},
   "source": [
    "**Solution:**\n",
    "``` python\n",
    "outcome = []\n",
    "for i in text:\n",
    "    if text.count(i)==1:\n",
    "        outcome.append(i)\n",
    "print(outcome)\n",
    "```\n",
    "\n",
    "['w','i']\n",
    "\n",
    "\n",
    "---"
   ]
  },
  {
   "cell_type": "markdown",
   "metadata": {},
   "source": [
    "---\n",
    "# **Problem**\n",
    "Write a python program to rotate a K elements in list:\n",
    "\n",
    "list of integers (nums)\n",
    "\n",
    "an integer (k) representing the number of steps to rotate from the end of list\n",
    "\n",
    "Input: nums = [1, 2, 3, 4, 5], k = 2\n",
    "\n",
    "output: [4, 5, 1, 2, 3]\n",
    "\n",
    "\n",
    "Input: nums = [10, 20, 30, 40, 50], k = 1\n",
    "\n",
    "output: [50, 10, 20, 30, 40]\n",
    "\n",
    "\n",
    "Input: nums = [1, 2, 3, 4, 5], k = 9\n",
    "\n",
    "output: [2, 3, 4, 5, 1]\n",
    "\n",
    "\n",
    "### **Solution:**\n",
    "\n",
    "``` python\n",
    "def rotate_list(nums,k):\n",
    "    if k > len(nums):\n",
    "        k = k % len(nums)     \n",
    "    return nums[-k:] + nums[:-k]\n",
    "```\n",
    "---"
   ]
  },
  {
   "cell_type": "markdown",
   "metadata": {},
   "source": [
    "---\n",
    "# **Problem**\n",
    "\n",
    "Write a python program  to find elements that appear in more than one list:\n",
    "\n",
    "lst1 = [1, 2, 3, 4] \n",
    "\n",
    "lst2 = [2, 3, 4, 5]\n",
    "\n",
    "lst3 = [3, 4, 5, 6]\n",
    "\n",
    "### **Solution:**\n",
    "\n",
    "``` python\n",
    "def elements_in_multiple_lists(*lists):\n",
    "    sets = [set(i) for i in lists]\n",
    "    print(sets) # for reference\n",
    "    return set.intersection(*sets)\n",
    "\n",
    "print(elements_in_multiple_lists(lst1, lst2, lst3))\n",
    "```\n",
    "\n",
    "**sets:** [{1, 2, 3, 4}, {2, 3, 4, 5}, {3, 4, 5, 6}]\n",
    "\n",
    "**Output:** {3, 4}\n",
    "\n",
    "---"
   ]
  }
 ],
 "metadata": {
  "language_info": {
   "name": "python"
  }
 },
 "nbformat": 4,
 "nbformat_minor": 2
}
