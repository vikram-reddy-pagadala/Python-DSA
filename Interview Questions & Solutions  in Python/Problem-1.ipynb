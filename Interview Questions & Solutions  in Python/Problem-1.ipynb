{
 "cells": [
  {
   "cell_type": "markdown",
   "metadata": {},
   "source": [
    "Write a Python Program to find the least positive integer missing from a list inout integers\n",
    "\n",
    "Example: \n",
    "Input : [1, -1, 3, 7, 8, 0, 2, 5, -6]\n",
    "Output: 4\n",
    "\n",
    "Example: \n",
    "Input : [3, 7, -1, 8, 9, 10]\n",
    "Output: 1"
   ]
  },
  {
   "cell_type": "code",
   "execution_count": 2,
   "metadata": {},
   "outputs": [
    {
     "name": "stdout",
     "output_type": "stream",
     "text": [
      "4\n"
     ]
    }
   ],
   "source": [
    "### First Method\n",
    "\n",
    "def firstmethod(user_input):\n",
    "    compare_list = list(range(1, len(user_input)+1))\n",
    "    for i in user_input:\n",
    "        for j in compare_list:\n",
    "            if (i==j):\n",
    "                compare_list.remove(j)\n",
    "    return compare_list[0]\n",
    "\n",
    "user_input = [1, -1, 3, 7, 8, 0, 2, 5, -6]\n",
    "output = firstmethod(user_input)\n",
    "print(output)"
   ]
  }
 ],
 "metadata": {
  "kernelspec": {
   "display_name": "Python 3 (ipykernel)",
   "language": "python",
   "name": "python3"
  },
  "language_info": {
   "codemirror_mode": {
    "name": "ipython",
    "version": 3
   },
   "file_extension": ".py",
   "mimetype": "text/x-python",
   "name": "python",
   "nbconvert_exporter": "python",
   "pygments_lexer": "ipython3",
   "version": "3.10.13"
  }
 },
 "nbformat": 4,
 "nbformat_minor": 2
}
