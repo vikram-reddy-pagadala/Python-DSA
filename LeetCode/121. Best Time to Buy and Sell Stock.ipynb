{
 "cells": [
  {
   "attachments": {},
   "cell_type": "markdown",
   "metadata": {},
   "source": [
    "# **121. Best Time to Buy and Sell Stock**"
   ]
  },
  {
   "attachments": {},
   "cell_type": "markdown",
   "metadata": {},
   "source": [
    "You want to maximize your profit by choosing a single day to buy one stock and choosing a different day in the future to sell that stock.\n",
    "\n",
    "Return the maximum profit you can achieve from this transaction. If you cannot achieve any profit, return 0.\n",
    "\n",
    " \n",
    "**Example 1:**\n",
    "\n",
    "**Input:** prices = [7,1,5,3,6,4]\n",
    "**Output:** 5\n",
    "\n",
    "**Explanation**: Buy on day 2 (price = 1) and sell on day 5 (price = 6), profit = 6-1 = 5.\n",
    "Note that buying on day 2 and selling on day 1 is not allowed because you must buy before you sell.\n",
    "\n",
    "\n",
    "**Example 2:**\n",
    "\n",
    "**Input:** prices = [7,6,4,3,1]\n",
    "**Output:** 0\n",
    "\n",
    "**Explanation**: In this case, no transactions are done and the max profit = 0.\n",
    " \n",
    "\n",
    "**Constraints:**\n",
    "\n",
    "1 <= prices.length <= 105\n",
    "0 <= prices[i] <= 104"
   ]
  },
  {
   "attachments": {},
   "cell_type": "markdown",
   "metadata": {},
   "source": [
    "**Solution 1:**"
   ]
  },
  {
   "cell_type": "code",
   "execution_count": null,
   "metadata": {},
   "outputs": [],
   "source": [
    "class Solution:\n",
    "    def maxProfit(self, prices: List[int]) -> int:\n",
    "        max_profit = 0\n",
    "        for i in range(len(prices)):\n",
    "            for j in range(i,len(prices)):\n",
    "                if prices[j] - prices[i] > max_profit:\n",
    "                    max_profit = prices[j] - prices[i]\n",
    "        return max_profit"
   ]
  },
  {
   "attachments": {},
   "cell_type": "markdown",
   "metadata": {},
   "source": [
    "**Time Complexicity:** O(n2) \n",
    "\n",
    "**Space Complexicity:** O(1)"
   ]
  },
  {
   "attachments": {},
   "cell_type": "markdown",
   "metadata": {},
   "source": [
    "**Solution 2:**"
   ]
  },
  {
   "cell_type": "code",
   "execution_count": null,
   "metadata": {},
   "outputs": [],
   "source": [
    "class Solution:\n",
    "    def maxProfit(self, prices: List[int]) -> int:\n",
    "        min_price = prices[0]\n",
    "        max_profit = 0\n",
    "        \n",
    "        for price in prices[1:]:\n",
    "            max_profit = max(max_profit, price - min_price)\n",
    "            min_price = min(min_price, price)\n",
    "            \n",
    "        return max_profit"
   ]
  },
  {
   "attachments": {},
   "cell_type": "markdown",
   "metadata": {},
   "source": [
    "**Time Complexicity:** O(n) \n",
    "\n",
    "**Space Complexicity:** O(1)"
   ]
  },
  {
   "attachments": {},
   "cell_type": "markdown",
   "metadata": {},
   "source": [
    "**Solution 3:** With out using min and max functions"
   ]
  },
  {
   "cell_type": "code",
   "execution_count": null,
   "metadata": {},
   "outputs": [],
   "source": [
    "class Solution:\n",
    "    def maxProfit(self, prices: List[int]) -> int:\n",
    "        min_price = prices[0]\n",
    "        max_profit = 0\n",
    "\n",
    "        for price in prices:\n",
    "\n",
    "            if price < min_price:\n",
    "                min_price = price\n",
    "\n",
    "            current_profit = price - min_price\n",
    "\n",
    "            if current_profit > max_profit:\n",
    "                max_profit = current_profit\n",
    "            \n",
    "        return max_profit"
   ]
  },
  {
   "cell_type": "code",
   "execution_count": null,
   "metadata": {},
   "outputs": [],
   "source": [
    "class Solution:\n",
    "    def maxProfit(self, prices: List[int]) -> int:\n",
    "        \n",
    "        min_price = prices[0]\n",
    "        max_profit = 0\n",
    "\n",
    "        for price in prices:\n",
    "\n",
    "            if price < min_price:\n",
    "                min_price = price\n",
    "\n",
    "            if price - min_price > max_profit:\n",
    "                max_profit = price - min_price\n",
    "            \n",
    "        return max_profit"
   ]
  },
  {
   "attachments": {},
   "cell_type": "markdown",
   "metadata": {},
   "source": [
    "**Time Complexicity:** O(n) \n",
    "\n",
    "**Space Complexicity:** O(1)"
   ]
  }
 ],
 "metadata": {
  "language_info": {
   "name": "python"
  },
  "orig_nbformat": 4
 },
 "nbformat": 4,
 "nbformat_minor": 2
}
