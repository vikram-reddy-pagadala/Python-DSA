{
 "cells": [
  {
   "cell_type": "markdown",
   "id": "95f33311",
   "metadata": {},
   "source": [
    "## **1678. Goal Parser Interpretation**\n",
    "``` python\n",
    "You own a Goal Parser that can interpret a string command. The command consists of an alphabet of \"G\", \"()\" and/or \"(al)\" in some order. The Goal Parser will interpret \"G\" as the string \"G\", \"()\" as the string \"o\", and \"(al)\" as the string \"al\". The interpreted strings are then concatenated in the original order.\n",
    "\n",
    "Given the string command, return the Goal Parser's interpretation of command.\n",
    "\n",
    " \n",
    "\n",
    "Example 1:\n",
    "\n",
    "Input: command = \"G()(al)\"\n",
    "Output: \"Goal\"\n",
    "Explanation: The Goal Parser interprets the command as follows:\n",
    "G -> G\n",
    "() -> o\n",
    "(al) -> al\n",
    "The final concatenated result is \"Goal\".\n",
    "Example 2:\n",
    "\n",
    "Input: command = \"G()()()()(al)\"\n",
    "Output: \"Gooooal\"\n",
    "Example 3:\n",
    "\n",
    "Input: command = \"(al)G(al)()()G\"\n",
    "Output: \"alGalooG\"\n",
    " \n",
    "\n",
    "Constraints:\n",
    "\n",
    "1 <= command.length <= 100\n",
    "command consists of \"G\", \"()\", and/or \"(al)\" in some order."
   ]
  },
  {
   "cell_type": "markdown",
   "id": "97622ffb",
   "metadata": {},
   "source": [
    "### **Solution-1:**\n",
    "``` python\n",
    "class Solution:\n",
    "    def interpret(self, command: str) -> str:\n",
    "        result = ''\n",
    "        i=0\n",
    "        while i < len(command):\n",
    "            if command[i] == 'G':\n",
    "                result += 'G'\n",
    "                i+=1\n",
    "            elif command[i:i+2] == '()':\n",
    "                result += 'o'\n",
    "                i+=2\n",
    "            else:\n",
    "                result += 'al'\n",
    "                i+=4\n",
    "        return result"
   ]
  },
  {
   "cell_type": "markdown",
   "id": "58ff4822",
   "metadata": {},
   "source": [
    "#### Time Complexicity: O(n)"
   ]
  }
 ],
 "metadata": {
  "language_info": {
   "name": "python"
  }
 },
 "nbformat": 4,
 "nbformat_minor": 5
}
