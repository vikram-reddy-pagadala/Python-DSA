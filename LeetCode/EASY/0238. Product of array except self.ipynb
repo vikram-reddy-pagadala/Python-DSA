{
 "cells": [
  {
   "cell_type": "markdown",
   "id": "b2f53ea3",
   "metadata": {},
   "source": [
    "# **238. Product of array except self**\n",
    "\n",
    "Given an integer array nums, return an array answer such that answer[i] is equal to the product of all the elements of nums except nums[i].\n",
    "\n",
    "The product of any prefix or suffix of nums is guaranteed to fit in a 32-bit integer.\n",
    "\n",
    "You must write an algorithm that runs in O(n) time and without using the division operation.\n",
    "\n",
    " \n",
    "\n",
    "Example 1:\n",
    "\n",
    "Input: nums = [1,2,3,4]\n",
    "\n",
    "Output: [24,12,8,6]\n",
    "\n",
    "Example 2:\n",
    "\n",
    "Input: nums = [-1,1,0,-3,3]\n",
    "\n",
    "Output: [0,0,9,0,0]\n",
    " \n",
    "\n",
    "Constraints:\n",
    "\n",
    "2 <= nums.length <= 105\n",
    "\n",
    "-30 <= nums[i] <= 30\n",
    "\n",
    "The input is generated such that answer[i] is guaranteed to fit in a 32-bit integer.\n",
    " \n",
    "\n",
    "Follow up: Can you solve the problem in O(1) extra space complexity? \n",
    "\n",
    "(The output array does not count as extra space for space complexity analysis.)"
   ]
  },
  {
   "cell_type": "markdown",
   "id": "98bbd7ee",
   "metadata": {},
   "source": [
    "**Solutions-1**"
   ]
  },
  {
   "cell_type": "markdown",
   "id": "0cd8c3b7",
   "metadata": {},
   "source": [
    "``` python\n",
    "class Solution:\n",
    "    def productExceptSelf(self, nums: List[int]) -> List[int]:\n",
    "        n = len(nums)\n",
    "        answer = []\n",
    "        for i in range(n):\n",
    "            m = 1\n",
    "            for j in range(n):\n",
    "                if i != j:\n",
    "                    m *= nums[j]\n",
    "            answer.append(m)\n",
    "            \n",
    "        return answer\n",
    "\n",
    "# Time Complexicity: O(n2)"
   ]
  },
  {
   "cell_type": "markdown",
   "id": "a3a4c0f7",
   "metadata": {},
   "source": [
    "**Solutions-2**"
   ]
  },
  {
   "cell_type": "markdown",
   "id": "429c2dbd",
   "metadata": {},
   "source": [
    "``` python\n",
    "class Solution:\n",
    "    def productExceptSelf(self, nums: List[int]) -> List[int]:\n",
    "\n",
    "        n = len(nums)\n",
    "\n",
    "        left_mult = 1\n",
    "        left_arr = [0]*n\n",
    "\n",
    "        right_mult = 1\n",
    "        right_arr = [0]*n\n",
    "\n",
    "        for i in range(n):\n",
    "            j = -i -1\n",
    "\n",
    "            left_arr[i]= left_mult\n",
    "            left_mult *= nums[i]\n",
    "\n",
    "            right_mult[j] = right_mult\n",
    "            right_mult *= nums[j]\n",
    "\n",
    "        return [l*r for l, r in zip(left_arr, right_arr)]\n",
    "\n",
    "# Time Complexicity: O(n)\n",
    "\n",
    "# left_arr = [1, 1, 2, 6]\n",
    "# right_arr = [24, 12, 4, 1]\n",
    "# result arr = [24, 12, 8, 1]\n",
    "\n"
   ]
  }
 ],
 "metadata": {
  "language_info": {
   "name": "python"
  }
 },
 "nbformat": 4,
 "nbformat_minor": 5
}
