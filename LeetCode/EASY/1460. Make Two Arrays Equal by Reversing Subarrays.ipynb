{
 "cells": [
  {
   "cell_type": "markdown",
   "metadata": {},
   "source": [
    "# **1460. Make Two Arrays Equal by Reversing Subarrays**\n",
    "``` console\n",
    "You are given two integer arrays of equal length target and arr. In one step, you can select any non-empty subarray of arr and reverse it. You are allowed to make any number of steps.\n",
    "\n",
    "Return true if you can make arr equal to target or false otherwise.\n",
    "\n",
    "\n",
    "Example 1:\n",
    "\n",
    "Input: target = [1,2,3,4], arr = [2,4,1,3]\n",
    "Output: true\n",
    "Explanation: You can follow the next steps to convert arr to target:\n",
    "1- Reverse subarray [2,4,1], arr becomes [1,4,2,3]\n",
    "2- Reverse subarray [4,2], arr becomes [1,2,4,3]\n",
    "3- Reverse subarray [4,3], arr becomes [1,2,3,4]\n",
    "There are multiple ways to convert arr to target, this is not the only way to do so.\n",
    "Example 2:\n",
    "\n",
    "Input: target = [7], arr = [7]\n",
    "Output: true\n",
    "Explanation: arr is equal to target without any reverses.\n",
    "Example 3:\n",
    "\n",
    "Input: target = [3,7,9], arr = [3,7,11]\n",
    "Output: false\n",
    "Explanation: arr does not have value 9 and it can never be converted to target.\n",
    " \n",
    "\n",
    "Constraints:\n",
    "\n",
    "target.length == arr.length\n",
    "1 <= target.length <= 1000\n",
    "1 <= target[i] <= 1000\n",
    "1 <= arr[i] <= 1000"
   ]
  },
  {
   "cell_type": "markdown",
   "metadata": {},
   "source": [
    "---\n",
    "**Solution-1:**\n",
    "``` python\n",
    "class Solution:\n",
    "    def canBeEqual(self, target: List[int], arr: List[int]) -> bool:\n",
    "        m = len(arr)\n",
    "        n = len(target)\n",
    "        if m > n:\n",
    "            return False\n",
    "        a = Counter(arr)\n",
    "        b = Counter(target)\n",
    "        for k, v in a.items():\n",
    "            if k in b and v == b[k]:\n",
    "                continue\n",
    "            else:\n",
    "                return False\n",
    "        return True\n",
    "```\n",
    "---\n",
    "**Solution-2:**\n",
    "``` python\n",
    "from collections import Counter\n",
    "\n",
    "class Solution:\n",
    "    def canBeEqual(self, target: List[int], arr: List[int]) -> bool:\n",
    "\n",
    "        # Use Counter to efficiently count frequency differences\n",
    "        return Counter(target) == Counter(arr)\n",
    "```\n",
    "---"
   ]
  }
 ],
 "metadata": {
  "language_info": {
   "name": "python"
  }
 },
 "nbformat": 4,
 "nbformat_minor": 2
}
