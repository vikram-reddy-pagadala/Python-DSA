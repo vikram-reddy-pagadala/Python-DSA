{
 "cells": [
  {
   "attachments": {},
   "cell_type": "markdown",
   "metadata": {},
   "source": [
    "# **1. Two Sum**\n",
    "\n",
    "Given an array of integers nums and an integer target, return indices of the two numbers such that they add up to target.\n",
    "\n",
    "You may assume that each input would have exactly one solution, and you may not use the same element twice.\n",
    "\n",
    "You can return the answer in any order.\n",
    "\n",
    " \n",
    "\n",
    "**Example 1:**\n",
    "\n",
    "**Input:** nums = [2,7,11,15], target = 9\n",
    "**Output:** [0,1]\n",
    "\n",
    "**Explanation:** Because nums[0] + nums[1] == 9, we return [0, 1].\n",
    "\n",
    "**Example 2:**\n",
    "\n",
    "**Input:** nums = [3,2,4], target = 6\n",
    "**Output:** [1,2]\n",
    "\n",
    "**Example 3:**\n",
    "\n",
    "**Input:** nums = [3,3], target = 6\n",
    "**Output:** [0,1]\n",
    " \n",
    "\n",
    "**Constraints:**\n",
    "\n",
    "2 <= nums.length <= 104\n",
    "-109 <= nums[i] <= 109\n",
    "-109 <= target <= 109\n",
    "Only one valid answer exists."
   ]
  },
  {
   "attachments": {},
   "cell_type": "markdown",
   "metadata": {},
   "source": [
    "**Solution 1: (Brute Force)**"
   ]
  },
  {
   "cell_type": "code",
   "execution_count": null,
   "metadata": {},
   "outputs": [],
   "source": [
    "class Solution:\n",
    "    def twoSum(self, nums: List[int], target: int) -> List[int]:\n",
    "        n = len(nums)\n",
    "        for i in range(n - 1):\n",
    "            for j in range(i + 1, n):\n",
    "                if nums[i] + nums[j] == target:\n",
    "                    return [i, j]\n",
    "        return []  # No solution found"
   ]
  },
  {
   "attachments": {},
   "cell_type": "markdown",
   "metadata": {},
   "source": [
    "**Time Complexicity:** O(n2) \n",
    "\n",
    "**Space Complexicity:** O(1)"
   ]
  },
  {
   "attachments": {},
   "cell_type": "markdown",
   "metadata": {},
   "source": [
    "**Solution 2: (Hash Table)**"
   ]
  },
  {
   "cell_type": "code",
   "execution_count": null,
   "metadata": {},
   "outputs": [],
   "source": [
    "class Solution:\n",
    "    def twoSum(self, nums: List[int], target: int) -> List[int]:\n",
    "        numMap = {}\n",
    "        n = len(nums)\n",
    "\n",
    "        # Build the hash table\n",
    "        for i in range(n):\n",
    "            numMap[nums[i]] = i\n",
    "\n",
    "        # Find the complement\n",
    "        for i in range(n):\n",
    "            complement = target - nums[i]\n",
    "            if complement in numMap and numMap[complement] != i:\n",
    "                return [i, numMap[complement]]\n",
    "\n",
    "        return []  # No solution found"
   ]
  },
  {
   "cell_type": "code",
   "execution_count": null,
   "metadata": {},
   "outputs": [],
   "source": [
    "class Solution:\n",
    "    def twoSum(self, nums: List[int], target: int) -> List[int]:\n",
    "        numMap = {}\n",
    "        n = len(nums)\n",
    "\n",
    "        for i in range(n):\n",
    "            complement = target - nums[i]\n",
    "            if complement in numMap:\n",
    "                return [numMap[complement], i]\n",
    "            numMap[nums[i]] = i\n",
    "\n",
    "        return []  # No solution found"
   ]
  },
  {
   "cell_type": "code",
   "execution_count": null,
   "metadata": {},
   "outputs": [],
   "source": [
    "class Solution(object):\n",
    "    def twoSum(self, nums, target):\n",
    "        \"\"\"\n",
    "        :type nums: List[int]\n",
    "        :type target: int\n",
    "        :rtype: List[int]\n",
    "        \"\"\"\n",
    "        hash_map = {}\n",
    "        for i, num in enumerate(nums):\n",
    "            diff = (target - nums[i])\n",
    "            if diff in hash_map:\n",
    "                return[hash_map[diff],i]\n",
    "            hash_map[num]= i\n",
    "\n",
    "        return[] # No solution found"
   ]
  },
  {
   "attachments": {},
   "cell_type": "markdown",
   "metadata": {},
   "source": [
    "**Time Complexicity:** O(n) \n",
    "\n",
    "**Space Complexicity:** O(n)"
   ]
  },
  {
   "attachments": {},
   "cell_type": "markdown",
   "metadata": {},
   "source": [
    "**Solution 3: (Two Pointers)**"
   ]
  },
  {
   "cell_type": "code",
   "execution_count": null,
   "metadata": {},
   "outputs": [],
   "source": [
    "class Solution(object):\n",
    "    def twoSum(self, nums, target):\n",
    "        \"\"\"\n",
    "        :type nums: List[int]\n",
    "        :type target: int\n",
    "        :rtype: List[int]\n",
    "        \"\"\"\n",
    "        # Create a list of (num, index) pairs and sort it by the number value\n",
    "        sorted_nums = sorted((num, i) for i, num in enumerate(nums))\n",
    "        \n",
    "        # Initialize two pointers\n",
    "        left, right = 0, len(sorted_nums) - 1\n",
    "        \n",
    "        # Iterate while left pointer is less than right pointer\n",
    "        while left < right:\n",
    "            current_sum = sorted_nums[left][0] + sorted_nums[right][0]\n",
    "            \n",
    "            # If the sum equals the target, return the original indices\n",
    "            if current_sum == target:\n",
    "                return [sorted_nums[left][1], sorted_nums[right][1]]\n",
    "            \n",
    "            # If the current sum is less than the target, move the left pointer right\n",
    "            elif current_sum < target:\n",
    "                left += 1\n",
    "                \n",
    "            # If the current sum is greater than the target, move the right pointer left\n",
    "            else:\n",
    "                right -= 1"
   ]
  },
  {
   "attachments": {},
   "cell_type": "markdown",
   "metadata": {},
   "source": [
    "**Time Complexity:** O(n log n)\n",
    "\n",
    "Sorting takes O(n log n), and the two-pointer search takes O(n). Therefore, the overall time complexity is O(n log n).\n",
    "\n",
    "**Space Complexity:** O(n)\n",
    "\n",
    "We create an additional list of size n to store the sorted values along with their original indices. This requires O(n) extra space."
   ]
  }
 ],
 "metadata": {
  "language_info": {
   "name": "python"
  },
  "orig_nbformat": 4
 },
 "nbformat": 4,
 "nbformat_minor": 2
}
