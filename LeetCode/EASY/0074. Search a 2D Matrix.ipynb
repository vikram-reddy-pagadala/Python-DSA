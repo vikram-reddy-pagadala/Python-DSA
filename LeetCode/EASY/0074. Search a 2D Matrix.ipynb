{
 "cells": [
  {
   "cell_type": "markdown",
   "id": "183a0631",
   "metadata": {},
   "source": [
    "# **74. Search a 2D Matrix**\n",
    "\n",
    "you are given an m*n matrix with following two properties:\n",
    "\n",
    "You are given an m x n integer matrix matrix with the following two properties:\n",
    "\n",
    "* Each row is sorted in non-decreasing order.\n",
    "* The first integer of each row is greater than the last integer of the previous row.\n",
    "* Given an integer target, return true if target is in matrix or false otherwise.\n",
    "\n",
    "You must write a solution in O(log(m * n)) time complexity.\n",
    "\n",
    " \n",
    "\n",
    "Example 1:\n",
    "\n",
    "``` console\n",
    "|-------|-------|-------|-------|\n",
    "| 1     | 3     | 5     | 7     |\n",
    "|-------|-------|-------|-------|\n",
    "| 10    | 11    | 16    | 20    |\n",
    "|-------|-------|-------|-------|\n",
    "| 23    | 30    | 34    | 60    |\n",
    "|-------|-------|-------|-------|\n",
    "```\n",
    "\n",
    "Input: matrix = [[1,3,5,7],[10,11,16,20],[23,30,34,60]], target = 3\n",
    "Output: true\n",
    "\n",
    "Example 2:\n",
    "\n",
    "``` console\n",
    "|-------|-------|-------|-------|\n",
    "| 1     | 3     | 5     | 7     |\n",
    "|-------|-------|-------|-------|\n",
    "| 10    | 11    | 16    | 20    |\n",
    "|-------|-------|-------|-------|\n",
    "| 23    | 30    | 34    | 60    |\n",
    "|-------|-------|-------|-------|\n",
    "```\n",
    "\n",
    "Input: matrix = [[1,3,5,7],[10,11,16,20],[23,30,34,60]], target = 13\n",
    "Output: false\n",
    " \n",
    "\n",
    "Constraints:\n",
    "\n",
    "* m == matrix.length\n",
    "* n == matrix[i].length\n",
    "* 1 <= m, n <= 100\n",
    "* -104 <= matrix[i][j], target <= 104\n"
   ]
  }
 ],
 "metadata": {
  "kernelspec": {
   "display_name": "Python 3",
   "language": "python",
   "name": "python3"
  },
  "language_info": {
   "name": "python",
   "version": "3.13.0"
  }
 },
 "nbformat": 4,
 "nbformat_minor": 5
}
