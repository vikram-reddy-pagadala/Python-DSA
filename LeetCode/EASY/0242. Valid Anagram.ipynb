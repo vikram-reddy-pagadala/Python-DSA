{
 "cells": [
  {
   "cell_type": "markdown",
   "metadata": {},
   "source": [
    "# **242. Valid Anagram**\n",
    "``` console\n",
    "Given two strings s and t, return true if t is an anagram of s, and false otherwise.\n",
    "\n",
    " \n",
    "\n",
    "Example 1:\n",
    "\n",
    "Input: s = \"anagram\", t = \"nagaram\"\n",
    "\n",
    "Output: true\n",
    "\n",
    "Example 2:\n",
    "\n",
    "Input: s = \"rat\", t = \"car\"\n",
    "\n",
    "Output: false\n",
    "\n",
    " \n",
    "\n",
    "Constraints:\n",
    "\n",
    "1 <= s.length, t.length <= 5 * 104\n",
    "s and t consist of lowercase English letters.\n",
    " \n",
    "\n",
    "Follow up: What if the inputs contain Unicode characters? How would you adapt your solution to such a case?"
   ]
  },
  {
   "cell_type": "markdown",
   "metadata": {},
   "source": [
    "---\n",
    "**Solution-1:**\n",
    "**Sorting-Approach**\n",
    "``` python\n",
    "class Solution:\n",
    "    def isAnagram(self, s: str, t: str) -> bool:\n",
    "        a = sorted(s)\n",
    "        b =  sorted(t)\n",
    "        return  a == b\n",
    "```\n",
    "time complexity of O(n log n)\n",
    "\n",
    "---\n",
    "**Solution-2:**\n",
    "**HASH TABLE-Approach**\n",
    "``` python\n",
    "class Solution:\n",
    "    def isAnagram(self, s: str, t: str) -> bool:\n",
    "        count = defaultdict(int)\n",
    "\n",
    "        # Count the frequency of characters in string s\n",
    "        for x in s:\n",
    "            count[x] += 1\n",
    "\n",
    "        # Decrement the frequency of characters in string t\n",
    "        for x in t:\n",
    "            count[x] -= 1\n",
    "\n",
    "        # Check if any character has non-zero frequency\n",
    "        for val in count.values():\n",
    "            if val != 0:\n",
    "                return False\n",
    "        return True\n",
    "```\n",
    "\n",
    "time complexity of O(n)\n",
    "\n",
    "---"
   ]
  }
 ],
 "metadata": {
  "language_info": {
   "name": "python"
  }
 },
 "nbformat": 4,
 "nbformat_minor": 2
}
