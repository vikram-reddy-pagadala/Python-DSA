{
 "cells": [
  {
   "cell_type": "markdown",
   "metadata": {},
   "source": [
    "# **1636. Sort Array by Increasing Frequency**\n",
    "\n",
    "Given an array of integers nums, sort the array in increasing order based on the frequency of the values. If multiple values have the same frequency, sort them in decreasing order.\n",
    "\n",
    "Return the sorted array.\n",
    "\n",
    " \n",
    "\n",
    "**Example 1:**\n",
    "\n",
    "**Input:** nums = [1,1,2,2,2,3]\n",
    "\n",
    "**Output:** [3,1,1,2,2,2]\n",
    "\n",
    "**Explanation**: '3' has a frequency of 1, '1' has a frequency of 2, and '2' has a frequency of 3.\n",
    "\n",
    "**Example 2:**\n",
    "\n",
    "**Input:** nums = [2,3,1,3,2]\n",
    "\n",
    "**Output:** [1,3,3,2,2]\n",
    "\n",
    "**Explanation:** '2' and '3' both have a frequency of 2, so they are sorted in decreasing order.\n",
    "\n",
    "**Example 3:**\n",
    "\n",
    "**Input:** nums = [-1,1,-6,4,5,-6,1,4,1]\n",
    "\n",
    "**Output:** [5,-1,4,4,-6,-6,1,1,1]\n",
    " \n",
    "\n",
    "**Constraints**:\n",
    "\n",
    "1 <= nums.length <= 100\n",
    "-100 <= nums[i] <= 100"
   ]
  },
  {
   "cell_type": "markdown",
   "metadata": {},
   "source": [
    "---\n",
    "**Solution-1:**\n",
    "``` python\n",
    "from collections import Counter\n",
    "class Solution:\n",
    "    def frequencySort(self, nums: List[int]) -> List[int]:\n",
    "        frequency = Counter(nums)\n",
    "        return sorted(nums, key = lambda x: (frequency[x], -x))"
   ]
  },
  {
   "cell_type": "markdown",
   "metadata": {},
   "source": [
    "---\n",
    "**Solution-2:**\n",
    "``` python\n",
    "from collections import Counter\n",
    "class Solution:\n",
    "    def frequencySort(self, nums: List[int]) -> List[int]:\n",
    "        frequency = Counter(nums)\n",
    "        nums.sort(key=lambda x:(frequency[x],-x))\n",
    "        return nums"
   ]
  }
 ],
 "metadata": {
  "language_info": {
   "name": "python"
  }
 },
 "nbformat": 4,
 "nbformat_minor": 2
}
