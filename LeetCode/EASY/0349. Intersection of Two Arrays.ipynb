{
 "cells": [
  {
   "cell_type": "markdown",
   "metadata": {},
   "source": [
    "# **349. Intersection of Two Arrays**\n",
    "``` console\n",
    "Given two integer arrays nums1 and nums2, return an array of their intersection. \n",
    "\n",
    "Each element in the result must be unique and you may return the result in any order.\n",
    "\n",
    " \n",
    "\n",
    "Example 1:\n",
    "\n",
    "Input: nums1 = [1,2,2,1], nums2 = [2,2]\n",
    "Output: [2]\n",
    "Example 2:\n",
    "\n",
    "Input: nums1 = [4,9,5], nums2 = [9,4,9,8,4]\n",
    "Output: [9,4]\n",
    "Explanation: [4,9] is also accepted.\n",
    " \n",
    "\n",
    "Constraints:\n",
    "\n",
    "1 <= nums1.length, nums2.length <= 1000\n",
    "0 <= nums1[i], nums2[i] <= 1000"
   ]
  },
  {
   "cell_type": "markdown",
   "metadata": {},
   "source": [
    "---\n",
    "**Solution-1:**\n",
    "``` python\n",
    "class Solution:\n",
    "    def intersection(self, nums1: List[int], nums2: List[int]) -> List[int]:\n",
    "        nums1 = set(nums1)\n",
    "        nums2 = set(nums2)\n",
    "        result = []\n",
    "        for num in nums1:\n",
    "            if num in nums2:\n",
    "                result.append(num)\n",
    "        return result\n",
    "```\n",
    "---\n",
    "**Solution-2:**\n",
    "``` python\n",
    "class Solution:\n",
    "    def intersection(self, nums1: List[int], nums2: List[int]) -> List[int]:\n",
    "        result = []\n",
    "        for i in nums1:\n",
    "            if i in nums2 and i not in result:\n",
    "                result.append(i)\n",
    "        \n",
    "        return result\n",
    "```\n",
    "---\n",
    "**Solution-3:**\n",
    "``` python\n",
    "class Solution:\n",
    "    def intersection(self, nums1: List[int], nums2: List[int]) -> List[int]:\n",
    "        return list(set(nums1) & set(nums2))\n",
    "```\n",
    "---"
   ]
  }
 ],
 "metadata": {
  "language_info": {
   "name": "python"
  }
 },
 "nbformat": 4,
 "nbformat_minor": 2
}
