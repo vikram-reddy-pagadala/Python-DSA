{
 "cells": [
  {
   "cell_type": "markdown",
   "id": "5025bb24",
   "metadata": {},
   "source": [
    "### **2335. Minimum Amount of Time to Fill Cups**\n",
    "``` python\n",
    "You have a water dispenser that can dispense cold, warm, and hot water. Every second, you can either fill up 2 cups with different types of water, or 1 cup of any type of water.\n",
    "\n",
    "You are given a 0-indexed integer array amount of length 3 where amount[0], amount[1], and amount[2] denote the number of cold, warm, and hot water cups you need to fill respectively. Return the minimum number of seconds needed to fill up all the cups.\n",
    "\n",
    " \n",
    "\n",
    "Example 1:\n",
    "\n",
    "Input: amount = [1,4,2]\n",
    "Output: 4\n",
    "Explanation: One way to fill up the cups is:\n",
    "Second 1: Fill up a cold cup and a warm cup.\n",
    "Second 2: Fill up a warm cup and a hot cup.\n",
    "Second 3: Fill up a warm cup and a hot cup.\n",
    "Second 4: Fill up a warm cup.\n",
    "It can be proven that 4 is the minimum number of seconds needed.\n",
    "Example 2:\n",
    "\n",
    "Input: amount = [5,4,4]\n",
    "Output: 7\n",
    "Explanation: One way to fill up the cups is:\n",
    "Second 1: Fill up a cold cup, and a hot cup.\n",
    "Second 2: Fill up a cold cup, and a warm cup.\n",
    "Second 3: Fill up a cold cup, and a warm cup.\n",
    "Second 4: Fill up a warm cup, and a hot cup.\n",
    "Second 5: Fill up a cold cup, and a hot cup.\n",
    "Second 6: Fill up a cold cup, and a warm cup.\n",
    "Second 7: Fill up a hot cup.\n",
    "Example 3:\n",
    "\n",
    "Input: amount = [5,0,0]\n",
    "Output: 5\n",
    "Explanation: Every second, we fill up a cold cup.\n",
    " \n",
    "\n",
    "Constraints:\n",
    "\n",
    "amount.length == 3\n",
    "0 <= amount[i] <= 100\n",
    "```"
   ]
  },
  {
   "cell_type": "markdown",
   "id": "9c110324",
   "metadata": {},
   "source": [
    "### **Solution-1:**\n",
    "``` python\n",
    "class Solution:\n",
    "    def fillCups(self, amount: List[int]) -> int:\n",
    "        return max(max(amount), (sum(amount)+1)//2)"
   ]
  }
 ],
 "metadata": {
  "language_info": {
   "name": "python"
  }
 },
 "nbformat": 4,
 "nbformat_minor": 5
}
