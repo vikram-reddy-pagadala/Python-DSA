{
 "cells": [
  {
   "cell_type": "markdown",
   "metadata": {},
   "source": [
    "# **1331. Rank Transform of an Array**\n",
    "\n",
    "Given an array of integers arr, replace each element with its rank.\n",
    "\n",
    "The rank represents how large the element is. The rank has the following rules:\n",
    "\n",
    "Rank is an integer starting from 1.\n",
    "The larger the element, the larger the rank. If two elements are equal, their rank must be the same.\n",
    "Rank should be as small as possible.\n",
    " \n",
    "\n",
    "**Example 1:**\n",
    "\n",
    "Input: arr = [40,10,20,30]\n",
    "\n",
    "Output: [4,1,2,3]\n",
    "\n",
    "Explanation: 40 is the largest element. 10 is the smallest. 20 is the second smallest. 30 is the third smallest.\n",
    "\n",
    "**Example 2:**\n",
    "\n",
    "Input: arr = [100,100,100]\n",
    "\n",
    "Output: [1,1,1]\n",
    "\n",
    "Explanation: Same elements share the same rank.\n",
    "\n",
    "**Example 3:**\n",
    "\n",
    "Input: arr = [37,12,28,9,100,56,80,5,12]\n",
    "Output: [5,3,4,2,8,6,7,1,3]\n",
    " \n",
    "\n",
    "Constraints:\n",
    "\n",
    "0 <= arr.length <= 105\n",
    "-109 <= arr[i] <= 109"
   ]
  },
  {
   "cell_type": "markdown",
   "metadata": {},
   "source": [
    "---\n",
    "**Solution-1:**\n",
    "``` python\n",
    "class Solution:\n",
    "    def arrayRankTransform(self, arr: List[int]) -> List[int]:\n",
    "        value_to_rank = {}\n",
    "        sorted_unique_numbers = sorted(list(set(arr)))\n",
    "        for i in range(len(sorted_unique_numbers)):\n",
    "            value_to_rank[sorted_unique_numbers[i]] = i+1\n",
    "\n",
    "        for i in range(len(arr)):\n",
    "            arr[i] = value_to_rank[arr[i]]\n",
    "        return arr\n"
   ]
  },
  {
   "cell_type": "code",
   "execution_count": null,
   "metadata": {},
   "outputs": [],
   "source": [
    "# **Solution-2:**\n",
    "\n",
    "class Solution:\n",
    "    def arrayRankTransform(self, arr: list[int]) -> list[int]:\n",
    "        # Create a sorted list of unique elements from arr and map each element to its rank\n",
    "        sorted_unique = sorted(set(arr))\n",
    "        rank_map = {val: rank + 1 for rank, val in enumerate(sorted_unique)}\n",
    "\n",
    "        # Replace each element in arr with its rank\n",
    "        return [rank_map[num] for num in arr]\n",
    "\n",
    "# Example Usage\n",
    "if __name__ == \"__main__\":\n",
    "    solution = Solution()\n",
    "\n",
    "    # Example 1\n",
    "    arr1 = [40, 10, 20, 30]\n",
    "    print(\"Input:\", arr1)\n",
    "    print(\"Output:\", solution.arrayRankTransform(arr1))  # Output: [4, 1, 2, 3]\n",
    "\n",
    "    # Example 2\n",
    "    arr2 = [100, 100, 100]\n",
    "    print(\"Input:\", arr2)\n",
    "    print(\"Output:\", solution.arrayRankTransform(arr2))  # Output: [1, 1, 1]\n",
    "\n",
    "    # Example 3\n",
    "    arr3 = [37, 12, 28, 9, 100, 56, 80, 5, 12]\n",
    "    print(\"Input:\", arr3)\n",
    "    print(\"Output:\", solution.arrayRankTransform(arr3))  # Output: [5, 3, 4, 2, 8, 6, 7, 1, 3]\n"
   ]
  }
 ],
 "metadata": {
  "kernelspec": {
   "display_name": "Python 3",
   "language": "python",
   "name": "python3"
  },
  "language_info": {
   "codemirror_mode": {
    "name": "ipython",
    "version": 3
   },
   "file_extension": ".py",
   "mimetype": "text/x-python",
   "name": "python",
   "nbconvert_exporter": "python",
   "pygments_lexer": "ipython3",
   "version": "3.7.0"
  }
 },
 "nbformat": 4,
 "nbformat_minor": 2
}
