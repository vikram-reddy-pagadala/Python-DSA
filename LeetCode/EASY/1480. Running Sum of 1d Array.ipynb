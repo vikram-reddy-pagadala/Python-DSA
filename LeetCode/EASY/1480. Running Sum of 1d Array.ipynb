{
 "cells": [
  {
   "cell_type": "markdown",
   "id": "f1697f55",
   "metadata": {},
   "source": [
    "### **1480. Running Sum of 1d Array**\n",
    "``` python\n",
    "Given an array nums. We define a running sum of an array as runningSum[i] = sum(nums[0]…nums[i]).\n",
    "\n",
    "Return the running sum of nums.\n",
    "\n",
    " \n",
    "\n",
    "Example 1:\n",
    "\n",
    "Input: nums = [1,2,3,4]\n",
    "Output: [1,3,6,10]\n",
    "Explanation: Running sum is obtained as follows: [1, 1+2, 1+2+3, 1+2+3+4].\n",
    "Example 2:\n",
    "\n",
    "Input: nums = [1,1,1,1,1]\n",
    "Output: [1,2,3,4,5]\n",
    "Explanation: Running sum is obtained as follows: [1, 1+1, 1+1+1, 1+1+1+1, 1+1+1+1+1].\n",
    "Example 3:\n",
    "\n",
    "Input: nums = [3,1,2,10,1]\n",
    "Output: [3,4,6,16,17]\n",
    " \n",
    "\n",
    "Constraints:\n",
    "\n",
    "1 <= nums.length <= 1000\n",
    "-10^6 <= nums[i] <= 10^6"
   ]
  },
  {
   "cell_type": "markdown",
   "id": "0dd5d7b0",
   "metadata": {},
   "source": [
    "### **Solution-1:**\n",
    "``` python\n",
    "class Solution:\n",
    "    def runningSum(self, nums: List[int]) -> List[int]:\n",
    "        res = []\n",
    "        current_sum = nums[0]\n",
    "        for i in range(len(nums)):\n",
    "            if i == 0:\n",
    "                res.append(nums[i])\n",
    "            else:\n",
    "                current_sum += nums[i]\n",
    "                res.append(current_sum)\n",
    "        return res"
   ]
  },
  {
   "cell_type": "markdown",
   "id": "4bfdf829",
   "metadata": {},
   "source": [
    "### **Solution-2:**\n",
    "``` python\n",
    "class Solution:\n",
    "    def runningSum(self, nums: List[int]) -> List[int]:\n",
    "        res = []\n",
    "        for i in range(len(nums)):\n",
    "            res.append(sum(nums[:i+1]))\n",
    "        return res"
   ]
  }
 ],
 "metadata": {
  "language_info": {
   "name": "python"
  }
 },
 "nbformat": 4,
 "nbformat_minor": 5
}
