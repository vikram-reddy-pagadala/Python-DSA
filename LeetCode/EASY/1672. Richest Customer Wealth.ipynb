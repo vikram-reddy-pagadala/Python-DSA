{
 "cells": [
  {
   "cell_type": "markdown",
   "id": "db1cdf12",
   "metadata": {},
   "source": [
    "### **1672. Richest Customer Wealth**\n",
    "``` python\n",
    "You are given an m x n integer grid accounts where accounts[i][j] is the amount of money the i​​​​​​​​​​​th​​​​ customer has in the j​​​​​​​​​​​th​​​​ bank. Return the wealth that the richest customer has.\n",
    "\n",
    "A customer's wealth is the amount of money they have in all their bank accounts. The richest customer is the customer that has the maximum wealth.\n",
    "\n",
    " \n",
    "\n",
    "Example 1:\n",
    "\n",
    "Input: accounts = [[1,2,3],[3,2,1]]\n",
    "Output: 6\n",
    "Explanation:\n",
    "1st customer has wealth = 1 + 2 + 3 = 6\n",
    "2nd customer has wealth = 3 + 2 + 1 = 6\n",
    "Both customers are considered the richest with a wealth of 6 each, so return 6.\n",
    "Example 2:\n",
    "\n",
    "Input: accounts = [[1,5],[7,3],[3,5]]\n",
    "Output: 10\n",
    "Explanation: \n",
    "1st customer has wealth = 6\n",
    "2nd customer has wealth = 10 \n",
    "3rd customer has wealth = 8\n",
    "The 2nd customer is the richest with a wealth of 10.\n",
    "Example 3:\n",
    "\n",
    "Input: accounts = [[2,8,7],[7,1,3],[1,9,5]]\n",
    "Output: 17\n",
    " \n",
    "\n",
    "Constraints:\n",
    "\n",
    "m == accounts.length\n",
    "n == accounts[i].length\n",
    "1 <= m, n <= 50\n",
    "1 <= accounts[i][j] <= 100"
   ]
  },
  {
   "cell_type": "markdown",
   "id": "102c3d42",
   "metadata": {},
   "source": [
    "### **Solution-1:**\n",
    "``` python\n",
    "class Solution:\n",
    "    def maximumWealth(self, accounts: List[List[int]]) -> int:\n",
    "        res = 0\n",
    "        for i in range(len(accounts)):\n",
    "            res = max(res, sum(accounts[i][:]))\n",
    "        return res\n",
    "\n",
    "```\n",
    "### **Solution-2:**\n",
    "``` python\n",
    "class Solution:\n",
    "    def maximumWealth(self, accounts: list[list[int]]) -> int:\n",
    "        max_wealth = 0\n",
    "        for customer in accounts:\n",
    "            max_wealth = max(max_wealth, sum(customer))\n",
    "        return max_wealth\n",
    "```\n",
    "### **Complexity**\n",
    "**Time complexity:**\n",
    "- O(m * n), where m is the number of customers and n is the number of accounts per customer. This is because we examine each account of every customer.\n",
    "\n",
    "**Space complexity:**\n",
    "- O(1), as we use a fixed amount of extra space regardless of input size."
   ]
  }
 ],
 "metadata": {
  "language_info": {
   "name": "python"
  }
 },
 "nbformat": 4,
 "nbformat_minor": 5
}
