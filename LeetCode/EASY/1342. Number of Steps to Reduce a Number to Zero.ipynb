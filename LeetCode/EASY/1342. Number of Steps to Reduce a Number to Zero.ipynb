{
 "cells": [
  {
   "cell_type": "markdown",
   "id": "139d37c0",
   "metadata": {},
   "source": [
    "### **1342. Number of Steps to Reduce a Number to Zero**\n",
    "``` python\n",
    "Given an integer num, return the number of steps to reduce it to zero.\n",
    "\n",
    "In one step, if the current number is even, you have to divide it by 2, otherwise, you have to subtract 1 from it.\n",
    "\n",
    " \n",
    "\n",
    "Example 1:\n",
    "\n",
    "Input: num = 14\n",
    "Output: 6\n",
    "Explanation: \n",
    "Step 1) 14 is even; divide by 2 and obtain 7. \n",
    "Step 2) 7 is odd; subtract 1 and obtain 6.\n",
    "Step 3) 6 is even; divide by 2 and obtain 3. \n",
    "Step 4) 3 is odd; subtract 1 and obtain 2. \n",
    "Step 5) 2 is even; divide by 2 and obtain 1. \n",
    "Step 6) 1 is odd; subtract 1 and obtain 0.\n",
    "Example 2:\n",
    "\n",
    "Input: num = 8\n",
    "Output: 4\n",
    "Explanation: \n",
    "Step 1) 8 is even; divide by 2 and obtain 4. \n",
    "Step 2) 4 is even; divide by 2 and obtain 2. \n",
    "Step 3) 2 is even; divide by 2 and obtain 1. \n",
    "Step 4) 1 is odd; subtract 1 and obtain 0.\n",
    "Example 3:\n",
    "\n",
    "Input: num = 123\n",
    "Output: 12\n",
    " \n",
    "\n",
    "Constraints:\n",
    "\n",
    "0 <= num <= 106"
   ]
  },
  {
   "cell_type": "markdown",
   "id": "cb06c8be",
   "metadata": {},
   "source": [
    "### **Solution-1:**\n",
    "``` python\n",
    "class Solution:\n",
    "    def numberOfSteps(self, num: int) -> int:\n",
    "        if num == 0:\n",
    "            return 0\n",
    "        \n",
    "        steps = 0\n",
    "        while num > 0:\n",
    "            steps += 1\n",
    "            if num%2 == 0:\n",
    "                num = num//2\n",
    "            else:\n",
    "                num = (num-1)\n",
    "        return steps"
   ]
  }
 ],
 "metadata": {
  "language_info": {
   "name": "python"
  }
 },
 "nbformat": 4,
 "nbformat_minor": 5
}
