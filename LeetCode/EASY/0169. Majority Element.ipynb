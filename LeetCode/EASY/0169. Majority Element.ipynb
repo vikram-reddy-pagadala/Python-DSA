{
 "cells": [
  {
   "cell_type": "markdown",
   "metadata": {},
   "source": [
    "# **169. Majority Element**\n",
    "\n",
    "Given an array nums of size n, return the majority element.\n",
    "\n",
    "The majority element is the element that appears more than ⌊n / 2⌋ times. You may assume that the majority element always exists in the array.\n",
    "\n",
    " \n",
    "\n",
    "Example 1:\n",
    "\n",
    "Input: nums = [3,2,3]\n",
    "Output: 3\n",
    "Example 2:\n",
    "\n",
    "Input: nums = [2,2,1,1,1,2,2]\n",
    "Output: 2\n",
    " \n",
    "\n",
    "Constraints:\n",
    "\n",
    "n == nums.length\n",
    "1 <= n <= 5 * 104\n",
    "-109 <= nums[i] <= 109\n",
    " \n",
    "\n",
    "Follow-up: Could you solve the problem in linear time and in O(1) space?"
   ]
  },
  {
   "cell_type": "markdown",
   "metadata": {},
   "source": [
    "---\n",
    "**Solution-1:**\n",
    "``` python\n",
    "from collections import Counter\n",
    "from typing import List\n",
    "\n",
    "class Solution:\n",
    "    def majorityElement(self, nums: List[int]) -> int:\n",
    "        freq = Counter(nums)  # Count the frequency of each element\n",
    "        n = len(nums)         # Length of the array\n",
    "        \n",
    "        # Iterate over frequency items\n",
    "        for key, value in freq.items():\n",
    "            if value > n / 2:  # Check if the frequency is greater than n/2\n",
    "                return key  # Return the element with majority frequency\n",
    "        \n",
    "        return -1  # This line is a safeguard; in the given problem, a majority element always exists\n",
    "```\n",
    "---"
   ]
  },
  {
   "cell_type": "markdown",
   "metadata": {},
   "source": [
    "**Solution:**\n",
    "\n",
    "``` python\n",
    "## sorting approach\n",
    "class Solution:\n",
    "    def majorityElement(self, nums: List[int]) -> int:\n",
    "        nums.sort()\n",
    "        n = len(nums)\n",
    "        return nums[n//2]\n",
    "```\n",
    "---"
   ]
  },
  {
   "cell_type": "markdown",
   "metadata": {},
   "source": [
    "**Solution:**\n",
    "``` python\n",
    "# Hash Map\n",
    "class Solution:\n",
    "    def majorityElement(self, nums: List[int]) -> int:\n",
    "        n = len(nums)\n",
    "        m = defaultdict(int)\n",
    "        \n",
    "        for num in nums:\n",
    "            m[num] += 1\n",
    "        \n",
    "        n = n // 2\n",
    "        for key, value in m.items():\n",
    "            if value > n:\n",
    "                return key\n",
    "        \n",
    "        return 0\n",
    "```\n",
    "---\n"
   ]
  },
  {
   "cell_type": "markdown",
   "metadata": {},
   "source": [
    "**Solution**\n",
    "``` python\n",
    "class Solution:\n",
    "    def majorityElement(self, nums: List[int]) -> int:\n",
    "        count = 0\n",
    "        candidate = 0\n",
    "        \n",
    "        for num in nums:\n",
    "            if count == 0:\n",
    "                candidate = num\n",
    "            \n",
    "            if num == candidate:\n",
    "                count += 1\n",
    "            else:\n",
    "                count -= 1\n",
    "        \n",
    "        return candidate\n",
    "```\n",
    "---"
   ]
  }
 ],
 "metadata": {
  "language_info": {
   "name": "python"
  }
 },
 "nbformat": 4,
 "nbformat_minor": 2
}
