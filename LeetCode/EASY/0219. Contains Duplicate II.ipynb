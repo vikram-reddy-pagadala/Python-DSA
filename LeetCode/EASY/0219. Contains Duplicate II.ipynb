{
 "cells": [
  {
   "cell_type": "markdown",
   "id": "b613c480",
   "metadata": {},
   "source": [
    "### **219. Contains Duplicate II**\n",
    "\n",
    "``` python\n",
    "Given an integer array nums and an integer k, return true if there are two distinct indices i and j in the array such that nums[i] == nums[j] and abs(i - j) <= k.\n",
    "\n",
    " ```\n",
    "\n",
    "**Example 1:**\n",
    "\n",
    "Input: nums = [1,2,3,1], k = 3\n",
    "\n",
    "Output: true\n",
    "\n",
    "\n",
    "**Example 2:**\n",
    "\n",
    "Input: nums = [1,0,1,1], k = 1\n",
    "\n",
    "Output: true\n",
    "\n",
    "\n",
    "**Example 3:**\n",
    "\n",
    "Input: nums = [1,2,3,1,2,3], k = 2\n",
    "\n",
    "Output: false\n",
    " \n",
    "\n",
    "**Constraints:**\n",
    "\n",
    "1 <= nums.length <= 105\n",
    "\n",
    "-109 <= nums[i] <= 109\n",
    "\n",
    "0 <= k <= 105"
   ]
  },
  {
   "cell_type": "markdown",
   "id": "e80fc04a",
   "metadata": {},
   "source": [
    "### **Solution-1:**\n",
    "``` python\n",
    "class Solution:\n",
    "    def containsNearbyDuplicate(self, nums: List[int], k: int) -> bool:\n",
    "        seen = {}\n",
    "\n",
    "        for i, val in enumerate(nums):\n",
    "            if val in seen and i - seen[val] <= k:\n",
    "                return True\n",
    "            else:\n",
    "                seen[val] = i\n",
    "        return False\n"
   ]
  },
  {
   "cell_type": "markdown",
   "id": "0db52c88",
   "metadata": {},
   "source": [
    "### **Solution-2:**\n",
    "\n",
    "``` python\n",
    "class Solution:\n",
    "    def containsNearbyDuplicate(self, nums: List[int], k: int) -> bool:\n",
    "        nums_to = {}\n",
    "\n",
    "        for i in range(len(nums)):\n",
    "            if nums[i] in nums_to:\n",
    "                if abs(i-nums_to[nums[i]])<=k:\n",
    "                    return True\n",
    "            nums_to[nums[i]] = i\n",
    "        return False\n",
    "                \n",
    "        "
   ]
  }
 ],
 "metadata": {
  "language_info": {
   "name": "python"
  }
 },
 "nbformat": 4,
 "nbformat_minor": 5
}
