{
 "cells": [
  {
   "cell_type": "markdown",
   "id": "6c4eb075",
   "metadata": {},
   "source": [
    "### **876. Middle of the Linked List**\n",
    "``` python\n",
    "Given the head of a singly linked list, return the middle node of the linked list.\n",
    "\n",
    "If there are two middle nodes, return the second middle node.\n",
    "\n",
    "\n",
    "Example 1:\n",
    "\n",
    "\n",
    "Input: head = [1,2,3,4,5]\n",
    "Output: [3,4,5]\n",
    "Explanation: The middle node of the list is node 3.\n",
    "Example 2:\n",
    "\n",
    "\n",
    "Input: head = [1,2,3,4,5,6]\n",
    "Output: [4,5,6]\n",
    "Explanation: Since the list has two middle nodes with values 3 and 4, we return the second one.\n",
    " \n",
    "\n",
    "Constraints:\n",
    "\n",
    "The number of nodes in the list is in the range [1, 100].\n",
    "1 <= Node.val <= 100"
   ]
  },
  {
   "cell_type": "markdown",
   "id": "c219f20c",
   "metadata": {},
   "source": [
    "### **Solution-1:**\n",
    "``` python\n",
    "class Solution:\n",
    "    def middleNode(self, head: Optional[ListNode]) -> Optional[ListNode]:\n",
    "        slow = head\n",
    "        fast = head\n",
    "        while fast and fast.next:\n",
    "            slow = slow.next\n",
    "            fast = fast.next.next\n",
    "        return slow\n",
    "```\n",
    "### **Solution-2:**\n",
    "``` python\n",
    "class Solution:\n",
    "    def middleNode(self, head: Optional[ListNode]) -> Optional[ListNode]:\n",
    "        slow_pointer = head\n",
    "        fast_pointer = head\n",
    "\n",
    "        while fast_pointer is not None and fast_pointer.next is not None:\n",
    "            slow_pointer = slow_pointer.next\n",
    "            fast_pointer = fast_pointer.next.next\n",
    "\n",
    "        return slow_pointer\n",
    "```"
   ]
  }
 ],
 "metadata": {
  "language_info": {
   "name": "python"
  }
 },
 "nbformat": 4,
 "nbformat_minor": 5
}
