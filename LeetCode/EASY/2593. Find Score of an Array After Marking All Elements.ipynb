{
 "cells": [
  {
   "cell_type": "markdown",
   "metadata": {},
   "source": [
    "# **2593. Find Score of an Array After Marking All Elements**\n",
    "\n",
    "You are given an array nums consisting of positive integers.\n",
    "\n",
    "Starting with score = 0, apply the following algorithm:\n",
    "\n",
    "Choose the smallest integer of the array that is not marked. If there is a tie, choose the one with the smallest index.\n",
    "\n",
    "Add the value of the chosen integer to score.\n",
    "Mark the chosen element and its two adjacent elements if they exist.\n",
    "Repeat until all the array elements are marked.\n",
    "Return the score you get after applying the above algorithm.\n",
    "\n",
    " \n",
    "**Example 1:**\n",
    "\n",
    "Input: nums = [2,1,3,4,5,2]\n",
    "Output: 7\n",
    "\n",
    "Explanation: We mark the elements as follows:\n",
    "- 1 is the smallest unmarked element, so we mark it and its two adjacent elements: [2,1,3,4,5,2].\n",
    "- 2 is the smallest unmarked element, so we mark it and its left adjacent element: [2,1,3,4,5,2].\n",
    "- 4 is the only remaining unmarked element, so we mark it: [2,1,3,4,5,2].\n",
    "Our score is 1 + 2 + 4 = 7.\n",
    "\n",
    "**Example 2:**\n",
    "\n",
    "Input: nums = [2,3,5,1,3,2]\n",
    "Output: 5\n",
    "\n",
    "Explanation: We mark the elements as follows:\n",
    "- 1 is the smallest unmarked element, so we mark it and its two adjacent elements: [2,3,5,1,3,2].\n",
    "- 2 is the smallest unmarked element, since there are two of them, we choose the left-most one, so we mark the one at index 0 and its right adjacent element: [2,3,5,1,3,2].\n",
    "- 2 is the only remaining unmarked element, so we mark it: [2,3,5,1,3,2].\n",
    "Our score is 1 + 2 + 2 = 5.\n",
    " \n",
    "\n",
    "**Constraints:**\n",
    "\n",
    "1 <= nums.length <= 105\n",
    "1 <= nums[i] <= 106"
   ]
  },
  {
   "cell_type": "markdown",
   "metadata": {},
   "source": [
    "**Solution 1:**"
   ]
  },
  {
   "cell_type": "code",
   "execution_count": null,
   "metadata": {},
   "outputs": [],
   "source": [
    "class Solution:\n",
    "    def findScore(self, nums: List[int]) -> int:\n",
    "        visited = [False] * len(nums)\n",
    "        arr1 = sorted(set(nums))\n",
    "        score = 0\n",
    "        for num in arr1:\n",
    "            for i in range(len(nums)):\n",
    "                if nums[i] == num and not visited[i]:\n",
    "                    score += num\n",
    "                    visited[i] = True\n",
    "                    if i-1 >= 0:\n",
    "                        visited[i-1] = True\n",
    "                    if i + 1 < len(nums):\n",
    "                        visited[i + 1] = True\n",
    "        return score\n",
    "                    "
   ]
  },
  {
   "cell_type": "markdown",
   "metadata": {},
   "source": [
    "**Time Complexicity:** O(n2) \n",
    "\n",
    "**Space Complexicity:** O(n)"
   ]
  },
  {
   "cell_type": "markdown",
   "metadata": {},
   "source": [
    "**Solution 2:**"
   ]
  },
  {
   "cell_type": "code",
   "execution_count": null,
   "metadata": {},
   "outputs": [],
   "source": [
    "class Solution:\n",
    "    def findScore(self, nums: List[int]) -> int:\n",
    "        n= len(nums)\n",
    "        score = 0\n",
    "        visited = [False] * n\n",
    "\n",
    "        indexed_nums =[ (val, i) for i, val in enumerate(nums)]\n",
    "        indexed_nums.sort()\n",
    "        for val, i in indexed_nums:\n",
    "            if not visited[i]:\n",
    "                score += val\n",
    "                visited[i] = True\n",
    "                if i-1 >= 0:\n",
    "                    visited[i-1] = True\n",
    "                if i + 1 < n:\n",
    "                    visited[i + 1] = True\n",
    "        return score\n",
    "                    "
   ]
  },
  {
   "cell_type": "markdown",
   "metadata": {},
   "source": [
    "**Time Complexicity:** O(n log n) \n",
    "\n",
    "**Space Complexicity:** O(n)"
   ]
  },
  {
   "cell_type": "markdown",
   "metadata": {},
   "source": [
    "**Solution 3:**"
   ]
  },
  {
   "cell_type": "code",
   "execution_count": null,
   "metadata": {},
   "outputs": [],
   "source": [
    "from collections import deque\n",
    "from typing import List\n",
    "\n",
    "class Solution:\n",
    "    def findScore(self, nums: List[int]) -> int:\n",
    "        score = 0\n",
    "        n = len(nums)\n",
    "        # find local minimums\n",
    "        q = deque()\n",
    "        for i in range(n):\n",
    "            if q and q[-1] <= nums[i]:\n",
    "                skip = False\n",
    "                while q:\n",
    "                    k = q.pop()\n",
    "                    if not skip:\n",
    "                        score += k\n",
    "                    skip = not skip\n",
    "                continue\n",
    "            \n",
    "            q.append(nums[i])\n",
    "        \n",
    "        skip = False\n",
    "        while q:\n",
    "            k = q.pop()\n",
    "            if not skip:\n",
    "                score += k\n",
    "            skip = not skip\n",
    "        \n",
    "        return score\n"
   ]
  },
  {
   "cell_type": "markdown",
   "metadata": {},
   "source": [
    "**Time Complexicity:** O(n) \n",
    "\n",
    "**Space Complexicity:** O(n)"
   ]
  }
 ],
 "metadata": {
  "language_info": {
   "name": "python"
  }
 },
 "nbformat": 4,
 "nbformat_minor": 2
}
