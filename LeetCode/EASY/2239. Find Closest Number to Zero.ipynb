{
 "cells": [
  {
   "cell_type": "markdown",
   "id": "d3cde168",
   "metadata": {},
   "source": [
    "\n",
    "#  **2239. Find Closest Number to Zero**\n",
    "\n",
    "given an integer array nums of size n, return the number with the value closest to 0 in nums. If there are multiple answers, return the number with the largest value.\n",
    "\n",
    " \n",
    "\n",
    "Example 1:\n",
    "\n",
    "Input: nums = [-4,-2,1,4,8]\n",
    "\n",
    "Output: 1\n",
    "\n",
    "Explanation:\n",
    "\n",
    "The distance from -4 to 0 is |-4| = 4.\n",
    "\n",
    "The distance from -2 to 0 is |-2| = 2.\n",
    "\n",
    "The distance from 1 to 0 is |1| = 1.\n",
    "\n",
    "The distance from 4 to 0 is |4| = 4.\n",
    "\n",
    "The distance from 8 to 0 is |8| = 8.\n",
    "\n",
    "Thus, the closest number to 0 in the array is 1.\n",
    "\n",
    "Example 2:\n",
    "\n",
    "Input: nums = [2,-1,1]\n",
    "\n",
    "Output: 1\n",
    "\n",
    "Explanation: 1 and -1 are both the closest numbers to 0, so 1 being larger is returned.\n",
    " \n",
    "\n",
    "Constraints:\n",
    "\n",
    "1 <= n <= 1000\n",
    "\n",
    "-105 <= nums[i] <= 105"
   ]
  },
  {
   "cell_type": "markdown",
   "id": "21f2aeb6",
   "metadata": {},
   "source": [
    "**Solution:**"
   ]
  },
  {
   "cell_type": "markdown",
   "id": "ecb8462f",
   "metadata": {},
   "source": [
    "``` python\n",
    "nums = [-4,-2,1,4,8,-1,2,-8]\n",
    "\n",
    "def largest_value_near_to_zero(nums):\n",
    "    closest = nums[0]\n",
    "    for x in nums:\n",
    "        if abs(x) < abs(closest):\n",
    "            closest = x\n",
    "            \n",
    "    if closest < 0 or abs(closest) in nums:\n",
    "        return abs(closest)\n",
    "    else:\n",
    "        return closest\n",
    "\n",
    "print(largest_value_near_to_zero(nums))\n",
    "\n",
    "# Time: O(n) + O(n) = O(2n) ~ O(n)\n",
    "# Space: O(1)\n",
    "\n",
    "```"
   ]
  }
 ],
 "metadata": {
  "kernelspec": {
   "display_name": "Python 3",
   "language": "python",
   "name": "python3"
  },
  "language_info": {
   "name": "python",
   "version": "3.13.0"
  }
 },
 "nbformat": 4,
 "nbformat_minor": 5
}
