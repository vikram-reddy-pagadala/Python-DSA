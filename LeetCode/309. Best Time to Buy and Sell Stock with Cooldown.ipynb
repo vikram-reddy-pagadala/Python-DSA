{
 "cells": [
  {
   "attachments": {},
   "cell_type": "markdown",
   "metadata": {},
   "source": [
    "**309. Best Time to Buy and Sell Stock with Cooldown**\n",
    "\n",
    "You are given an array prices where prices[i] is the price of a given stock on the ith day.\n",
    "\n",
    "Find the maximum profit you can achieve. You may complete as many transactions as you like (i.e., buy one and sell one share of the stock multiple times) with the following restrictions:\n",
    "\n",
    "After you sell your stock, you cannot buy stock on the next day (i.e., cooldown one day).\n",
    "Note: You may not engage in multiple transactions simultaneously (i.e., you must sell the stock before you buy again).\n",
    "\n",
    " \n",
    "\n",
    "**Example 1:**\n",
    "\n",
    "**Input:** prices = [1,2,3,0,2]\n",
    "**Output:** 3\n",
    "\n",
    "**Explanation:** transactions = [buy, sell, cooldown, buy, sell]\n",
    "\n",
    "**Example 2:**\n",
    "\n",
    "**Input:** prices = [1]\n",
    "**Output:** 0\n",
    " \n",
    "\n",
    "**Constraints:**\n",
    "\n",
    "1 <= prices.length <= 5000\n",
    "0 <= prices[i] <= 1000"
   ]
  },
  {
   "attachments": {},
   "cell_type": "markdown",
   "metadata": {},
   "source": [
    "**Solution:**"
   ]
  },
  {
   "cell_type": "code",
   "execution_count": null,
   "metadata": {},
   "outputs": [],
   "source": [
    "class Solution:\n",
    "    def maxProfit(self, prices: List[int]) -> int:\n",
    "        \n",
    "\t\t# initialization\n",
    "        cool_down, sell, hold = 0, 0, -float('inf')\n",
    "        \n",
    "        for stock_price_of_Day_i in prices:\n",
    "            \n",
    "            prev_cool_down, prev_sell, prev_hold = cool_down, sell, hold\n",
    "            \n",
    "            # Max profit of cooldown on Day i comes from either cool down of Day_i-1, or sell out of Day_i-1 and today Day_i is cooling day\n",
    "            cool_down = max(prev_cool_down, prev_sell)\n",
    "            \n",
    "            # Max profit of sell on Day_i comes from hold of Day_i-1 and sell on Day_i\n",
    "            sell = prev_hold + stock_price_of_Day_i\n",
    "            \n",
    "            # Max profit of hold on Day_i comes from either hold of Day_i-1, or cool down on Day_i-1 and buy on Day_i\n",
    "            hold = max(prev_hold, prev_cool_down - stock_price_of_Day_i)\n",
    "        \n",
    "        \n",
    "        # The action of final trading day must be either sell or cool down\n",
    "        return max(sell, cool_down)"
   ]
  }
 ],
 "metadata": {
  "language_info": {
   "name": "python"
  },
  "orig_nbformat": 4
 },
 "nbformat": 4,
 "nbformat_minor": 2
}
