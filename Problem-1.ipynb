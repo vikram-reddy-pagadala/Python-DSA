{
 "cells": [
  {
   "cell_type": "markdown",
   "metadata": {},
   "source": [
    "Write a Python Program to find the least positive integer missing from a list inout integers\n",
    "\n",
    "Example: \n",
    "Input : [1, -1, 3, 7, 8, 0, 2, 5, -6]\n",
    "Output: 4\n",
    "\n",
    "Example: \n",
    "Input : [3, 7, -1, 8, 9, 10]\n",
    "Output: 1"
   ]
  },
  {
   "cell_type": "code",
   "execution_count": null,
   "metadata": {},
   "outputs": [],
   "source": [
    "### First Method\n"
   ]
  }
 ],
 "metadata": {
  "language_info": {
   "name": "python"
  }
 },
 "nbformat": 4,
 "nbformat_minor": 2
}
